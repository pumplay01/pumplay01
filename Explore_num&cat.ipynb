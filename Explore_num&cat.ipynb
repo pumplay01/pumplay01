{
  "nbformat": 4,
  "nbformat_minor": 0,
  "metadata": {
    "colab": {
      "provenance": [],
      "authorship_tag": "ABX9TyPkRUBzfqZ2AcvigIpGQTJh",
      "include_colab_link": true
    },
    "kernelspec": {
      "name": "python3",
      "display_name": "Python 3"
    },
    "language_info": {
      "name": "python"
    }
  },
  "cells": [
    {
      "cell_type": "markdown",
      "metadata": {
        "id": "view-in-github",
        "colab_type": "text"
      },
      "source": [
        "<a href=\"https://colab.research.google.com/github/pumplay01/pumplay01/blob/main/Explore_num%26cat.ipynb\" target=\"_parent\"><img src=\"https://colab.research.google.com/assets/colab-badge.svg\" alt=\"Open In Colab\"/></a>"
      ]
    },
    {
      "cell_type": "markdown",
      "source": [
        "Import Data"
      ],
      "metadata": {
        "id": "ivMapERZ6-ah"
      }
    },
    {
      "cell_type": "code",
      "execution_count": 1,
      "metadata": {
        "id": "z7dTJzRmV7so"
      },
      "outputs": [],
      "source": [
        "## Import Libraries\n",
        "import numpy as np\n",
        "import pandas as pd"
      ]
    },
    {
      "cell_type": "code",
      "source": [
        "## Import Data\n",
        "df = pd.read_csv(\"Customertravel.csv\")"
      ],
      "metadata": {
        "id": "owBS0iPWWdrw"
      },
      "execution_count": 2,
      "outputs": []
    },
    {
      "cell_type": "markdown",
      "source": [
        "Create Class"
      ],
      "metadata": {
        "id": "-CFVNFPj6unK"
      }
    },
    {
      "cell_type": "code",
      "execution_count": 3,
      "metadata": {
        "id": "sTQZVPJl6nHt"
      },
      "outputs": [],
      "source": [
        "class DataFrameStats:\n",
        "    def __init__(self, df):\n",
        "        self.df = df\n",
        "        self.numeric_columns = self.df.select_dtypes(include='number').columns\n",
        "        self.categorical_columns = self.df.select_dtypes(include='object').columns\n",
        "\n",
        "    def get_numeric_stats(self):\n",
        "        numeric_stats = self.df[self.numeric_columns].describe()\n",
        "        return numeric_stats\n",
        "\n",
        "    def get_categorical_stats(self):\n",
        "        categorical_stats = self.df[self.categorical_columns].describe()\n",
        "        return categorical_stats"
      ]
    },
    {
      "cell_type": "code",
      "source": [
        "# Create an instance of DataFrameStats\n",
        "stats = DataFrameStats(df)"
      ],
      "metadata": {
        "id": "UKmbxJTj60Xz"
      },
      "execution_count": 4,
      "outputs": []
    },
    {
      "cell_type": "code",
      "source": [
        "# Get numerical column statistics\n",
        "numeric_stats = stats.get_numeric_stats()\n",
        "\n",
        "print(\"Numerical column statistics:\")\n",
        "print(numeric_stats)"
      ],
      "metadata": {
        "colab": {
          "base_uri": "https://localhost:8080/"
        },
        "id": "UCPbvsCk618c",
        "outputId": "a0d6bcba-c520-440b-8228-5ad00104ecd0"
      },
      "execution_count": 5,
      "outputs": [
        {
          "output_type": "stream",
          "name": "stdout",
          "text": [
            "Numerical column statistics:\n",
            "              Age  ServicesOpted      Target\n",
            "count  954.000000     954.000000  954.000000\n",
            "mean    32.109015       2.437107    0.234801\n",
            "std      3.337388       1.606233    0.424097\n",
            "min     27.000000       1.000000    0.000000\n",
            "25%     30.000000       1.000000    0.000000\n",
            "50%     31.000000       2.000000    0.000000\n",
            "75%     35.000000       4.000000    0.000000\n",
            "max     38.000000       6.000000    1.000000\n"
          ]
        }
      ]
    },
    {
      "cell_type": "code",
      "source": [
        "# Get categorical column statistics\n",
        "categorical_stats = stats.get_categorical_stats()\n",
        "\n",
        "print(\"Categorical column statistics:\")\n",
        "print(categorical_stats)"
      ],
      "metadata": {
        "colab": {
          "base_uri": "https://localhost:8080/"
        },
        "id": "eIziPrgt64Nm",
        "outputId": "236b4395-4a87-497c-c2d2-c0a1528cb024"
      },
      "execution_count": 6,
      "outputs": [
        {
          "output_type": "stream",
          "name": "stdout",
          "text": [
            "Categorical column statistics:\n",
            "       FrequentFlyer AnnualIncomeClass AccountSyncedToSocialMedia  \\\n",
            "count            954               954                        954   \n",
            "unique             3                 3                          2   \n",
            "top               No     Middle Income                         No   \n",
            "freq             608               409                        594   \n",
            "\n",
            "       BookedHotelOrNot  \n",
            "count               954  \n",
            "unique                2  \n",
            "top                  No  \n",
            "freq                576  \n"
          ]
        }
      ]
    }
  ]
}