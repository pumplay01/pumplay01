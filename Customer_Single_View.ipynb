{
  "nbformat": 4,
  "nbformat_minor": 0,
  "metadata": {
    "colab": {
      "provenance": [],
      "authorship_tag": "ABX9TyMiwC8ETB2BTfkhN6Uvdo+R",
      "include_colab_link": true
    },
    "kernelspec": {
      "name": "python3",
      "display_name": "Python 3"
    },
    "language_info": {
      "name": "python"
    }
  },
  "cells": [
    {
      "cell_type": "markdown",
      "metadata": {
        "id": "view-in-github",
        "colab_type": "text"
      },
      "source": [
        "<a href=\"https://colab.research.google.com/github/pumplay01/pumplay01/blob/main/Customer_Single_View.ipynb\" target=\"_parent\"><img src=\"https://colab.research.google.com/assets/colab-badge.svg\" alt=\"Open In Colab\"/></a>"
      ]
    },
    {
      "cell_type": "markdown",
      "source": [
        "Input data"
      ],
      "metadata": {
        "id": "IVkKjfqg-PJB"
      }
    },
    {
      "cell_type": "code",
      "execution_count": null,
      "metadata": {
        "id": "1Yb7Bi1yVY9D"
      },
      "outputs": [],
      "source": [
        "import pandas as pd\n",
        "import numpy as np\n",
        "import matplotlib.pyplot as plt"
      ]
    },
    {
      "cell_type": "code",
      "source": [
        "df = pd.read_csv('supermarket.csv', delimiter=',')\n"
      ],
      "metadata": {
        "id": "N1neHT33WIH5"
      },
      "execution_count": null,
      "outputs": []
    },
    {
      "cell_type": "markdown",
      "source": [
        "Check data"
      ],
      "metadata": {
        "id": "pHjDNjE0-UJa"
      }
    },
    {
      "cell_type": "code",
      "source": [
        "# Display format and data type information\n",
        "print(df.info())"
      ],
      "metadata": {
        "colab": {
          "base_uri": "https://localhost:8080/"
        },
        "id": "3fXBcLR7ZJch",
        "outputId": "4992071c-aa22-461a-fb5c-65d00056061a"
      },
      "execution_count": null,
      "outputs": [
        {
          "output_type": "stream",
          "name": "stdout",
          "text": [
            "<class 'pandas.core.frame.DataFrame'>\n",
            "RangeIndex: 578082 entries, 0 to 578081\n",
            "Data columns (total 22 columns):\n",
            " #   Column                    Non-Null Count   Dtype  \n",
            "---  ------                    --------------   -----  \n",
            " 0   SHOP_WEEK                 578082 non-null  int64  \n",
            " 1   SHOP_DATE                 578082 non-null  int64  \n",
            " 2   SHOP_WEEKDAY              578082 non-null  int64  \n",
            " 3   SHOP_HOUR                 578082 non-null  int64  \n",
            " 4   QUANTITY                  578082 non-null  int64  \n",
            " 5   SPEND                     578082 non-null  float64\n",
            " 6   PROD_CODE                 578082 non-null  object \n",
            " 7   PROD_CODE_10              578082 non-null  object \n",
            " 8   PROD_CODE_20              578082 non-null  object \n",
            " 9   PROD_CODE_30              578082 non-null  object \n",
            " 10  PROD_CODE_40              578082 non-null  object \n",
            " 11  CUST_CODE                 492494 non-null  object \n",
            " 12  CUST_PRICE_SENSITIVITY    492494 non-null  object \n",
            " 13  CUST_LIFESTAGE            433142 non-null  object \n",
            " 14  BASKET_ID                 578082 non-null  int64  \n",
            " 15  BASKET_SIZE               578082 non-null  object \n",
            " 16  BASKET_PRICE_SENSITIVITY  578082 non-null  object \n",
            " 17  BASKET_TYPE               578082 non-null  object \n",
            " 18  BASKET_DOMINANT_MISSION   578082 non-null  object \n",
            " 19  STORE_CODE                578082 non-null  object \n",
            " 20  STORE_FORMAT              578082 non-null  object \n",
            " 21  STORE_REGION              578082 non-null  object \n",
            "dtypes: float64(1), int64(6), object(15)\n",
            "memory usage: 97.0+ MB\n",
            "None\n"
          ]
        }
      ]
    },
    {
      "cell_type": "markdown",
      "source": [
        "Delete some column not focus in this case"
      ],
      "metadata": {
        "id": "Em9OUZq5-WTA"
      }
    },
    {
      "cell_type": "code",
      "source": [
        "# Define the columns to be deleted\n",
        "columns_to_delete = ['SHOP_WEEK', 'SHOP_WEEKDAY', 'SHOP_HOUR','PROD_CODE_10','PROD_CODE_20','PROD_CODE_30',\n",
        "                     'PROD_CODE_40','CUST_PRICE_SENSITIVITY','CUST_LIFESTAGE','BASKET_SIZE','BASKET_PRICE_SENSITIVITY',\n",
        "                     'BASKET_TYPE','STORE_CODE','STORE_FORMAT','STORE_REGION']\n",
        "\n",
        "# Drop the specified columns\n",
        "df = df.drop(columns=columns_to_delete)\n",
        "\n",
        "# Verify the resulting DataFrame\n",
        "print(df)"
      ],
      "metadata": {
        "colab": {
          "base_uri": "https://localhost:8080/"
        },
        "id": "9qhapNzDZhkn",
        "outputId": "28431f32-33ce-4983-d4c3-0f6af53f3427"
      },
      "execution_count": null,
      "outputs": [
        {
          "output_type": "stream",
          "name": "stdout",
          "text": [
            "        SHOP_DATE  QUANTITY  SPEND   PROD_CODE       CUST_CODE  \\\n",
            "0        20071019         1   9.50  PRD0901335  CUST0000804514   \n",
            "1        20080328         1   1.49  PRD0901120  CUST0000735558   \n",
            "2        20070612         1   0.86  PRD0900963             NaN   \n",
            "3        20080604         3   0.90  PRD0901055             NaN   \n",
            "4        20060824         1   1.77  PRD0901877             NaN   \n",
            "...           ...       ...    ...         ...             ...   \n",
            "578077   20071116         1   0.01  PRD0903678  CUST0000451458   \n",
            "578078   20070612         1  13.76  PRD0902312  CUST0000957158   \n",
            "578079   20061109         1   4.47  PRD0900396  CUST0000111024   \n",
            "578080   20070624         1   4.92  PRD0903065  CUST0000412413   \n",
            "578081   20071229         1   9.27  PRD0901923  CUST0000509062   \n",
            "\n",
            "              BASKET_ID BASKET_DOMINANT_MISSION  \n",
            "0       994108000679877                   Fresh  \n",
            "1       994110300629787                   Fresh  \n",
            "2       994106200026009                 Grocery  \n",
            "3       994111300076346                 Grocery  \n",
            "4       994102000065854                   Fresh  \n",
            "...                 ...                     ...  \n",
            "578077  994108400460274                 Grocery  \n",
            "578078  994106200802520                   Fresh  \n",
            "578079  994103100229855                   Mixed  \n",
            "578080  994106300437841                   Mixed  \n",
            "578081  994109000359411                   Mixed  \n",
            "\n",
            "[578082 rows x 7 columns]\n"
          ]
        }
      ]
    },
    {
      "cell_type": "markdown",
      "source": [
        "Delete null customer_code becuase someone are not member and null column"
      ],
      "metadata": {
        "id": "V7Ga4CkE-c1x"
      }
    },
    {
      "cell_type": "code",
      "source": [
        "# Drop rows where 'CUST_CODE' is null\n",
        "df = df.dropna(subset=['CUST_CODE'])\n",
        "\n",
        "# Verify the resulting DataFrame\n",
        "print(df)"
      ],
      "metadata": {
        "colab": {
          "base_uri": "https://localhost:8080/"
        },
        "id": "KYIcGuM5Yl0g",
        "outputId": "2733c79c-22ea-4e73-8bff-2f629c4594ef"
      },
      "execution_count": null,
      "outputs": [
        {
          "output_type": "stream",
          "name": "stdout",
          "text": [
            "        SHOP_DATE  QUANTITY  SPEND   PROD_CODE       CUST_CODE  \\\n",
            "0        20071019         1   9.50  PRD0901335  CUST0000804514   \n",
            "1        20080328         1   1.49  PRD0901120  CUST0000735558   \n",
            "1115     20080605         1   0.70  PRD0904509  CUST0000138092   \n",
            "1116     20061213         1   2.04  PRD0904730  CUST0000099658   \n",
            "1117     20070713         1   2.19  PRD0900777  CUST0000673735   \n",
            "...           ...       ...    ...         ...             ...   \n",
            "578077   20071116         1   0.01  PRD0903678  CUST0000451458   \n",
            "578078   20070612         1  13.76  PRD0902312  CUST0000957158   \n",
            "578079   20061109         1   4.47  PRD0900396  CUST0000111024   \n",
            "578080   20070624         1   4.92  PRD0903065  CUST0000412413   \n",
            "578081   20071229         1   9.27  PRD0901923  CUST0000509062   \n",
            "\n",
            "              BASKET_ID BASKET_DOMINANT_MISSION  \n",
            "0       994108000679877                   Fresh  \n",
            "1       994110300629787                   Fresh  \n",
            "1115    994111300258138                 Grocery  \n",
            "1116    994103600221562                   Fresh  \n",
            "1117    994106600615672                   Mixed  \n",
            "...                 ...                     ...  \n",
            "578077  994108400460274                 Grocery  \n",
            "578078  994106200802520                   Fresh  \n",
            "578079  994103100229855                   Mixed  \n",
            "578080  994106300437841                   Mixed  \n",
            "578081  994109000359411                   Mixed  \n",
            "\n",
            "[492494 rows x 7 columns]\n"
          ]
        }
      ]
    },
    {
      "cell_type": "markdown",
      "source": [
        "Check null again all column"
      ],
      "metadata": {
        "id": "bpEHezE7-rNi"
      }
    },
    {
      "cell_type": "code",
      "source": [
        "# Check for null values in each column\n",
        "null_counts = df.isnull().sum()\n",
        "\n",
        "# Display the null counts for each column\n",
        "print(null_counts)"
      ],
      "metadata": {
        "colab": {
          "base_uri": "https://localhost:8080/"
        },
        "id": "57bNR-0Ra6px",
        "outputId": "6bdd8a03-f90e-4d4e-afba-ad83378958fc"
      },
      "execution_count": null,
      "outputs": [
        {
          "output_type": "stream",
          "name": "stdout",
          "text": [
            "SHOP_DATE                  0\n",
            "QUANTITY                   0\n",
            "SPEND                      0\n",
            "PROD_CODE                  0\n",
            "CUST_CODE                  0\n",
            "BASKET_ID                  0\n",
            "BASKET_DOMINANT_MISSION    0\n",
            "dtype: int64\n"
          ]
        }
      ]
    },
    {
      "cell_type": "markdown",
      "source": [
        "Check number of member by count distinct"
      ],
      "metadata": {
        "id": "Yc0avikA-zP6"
      }
    },
    {
      "cell_type": "code",
      "source": [
        "#Number customer count distinct\n",
        "unique_customers = df['CUST_CODE'].nunique()\n",
        "print(\"Number of unique customers:\", unique_customers)"
      ],
      "metadata": {
        "colab": {
          "base_uri": "https://localhost:8080/"
        },
        "id": "mESHSYTbbTaS",
        "outputId": "7079a4f6-2f50-40ee-b020-620d38e75348"
      },
      "execution_count": null,
      "outputs": [
        {
          "output_type": "stream",
          "name": "stdout",
          "text": [
            "Number of unique customers: 3439\n"
          ]
        }
      ]
    },
    {
      "cell_type": "markdown",
      "source": [
        "Prepare data for calculate customer analytics as total spending, No.of purchase."
      ],
      "metadata": {
        "id": "khLzP90a_NOD"
      }
    },
    {
      "cell_type": "code",
      "source": [
        "#total spending each customer\n",
        "total_spending = df.groupby('CUST_CODE')['SPEND'].sum()\n",
        "print(\"Total spending by customer:\")\n",
        "print(total_spending)"
      ],
      "metadata": {
        "colab": {
          "base_uri": "https://localhost:8080/"
        },
        "id": "UdzNaANNbWCp",
        "outputId": "3a8e972c-a8ac-455d-c101-7d3e39ab3338"
      },
      "execution_count": null,
      "outputs": [
        {
          "output_type": "stream",
          "name": "stdout",
          "text": [
            "Total spending by customer:\n",
            "CUST_CODE\n",
            "CUST0000000181       2.44\n",
            "CUST0000000689     328.57\n",
            "CUST0000000998       5.95\n",
            "CUST0000001163      39.74\n",
            "CUST0000001194    2493.83\n",
            "                   ...   \n",
            "CUST0000999439      43.60\n",
            "CUST0000999544       6.32\n",
            "CUST0000999593     453.58\n",
            "CUST0000999935     444.17\n",
            "CUST0000999936      17.67\n",
            "Name: SPEND, Length: 3439, dtype: float64\n"
          ]
        }
      ]
    },
    {
      "cell_type": "code",
      "source": [
        "#Average spending per customer:\n",
        "average_spending = df.groupby('CUST_CODE')['SPEND'].mean()\n",
        "print(\"Average spending per customer:\")\n",
        "print(average_spending)"
      ],
      "metadata": {
        "colab": {
          "base_uri": "https://localhost:8080/"
        },
        "id": "BuI8eMR_bkHo",
        "outputId": "acf43b70-bab4-46e9-fa4d-d5bb0ec20d33"
      },
      "execution_count": null,
      "outputs": [
        {
          "output_type": "stream",
          "name": "stdout",
          "text": [
            "Average spending per customer:\n",
            "CUST_CODE\n",
            "CUST0000000181    2.440000\n",
            "CUST0000000689    1.776054\n",
            "CUST0000000998    1.487500\n",
            "CUST0000001163    1.589600\n",
            "CUST0000001194    2.081661\n",
            "                    ...   \n",
            "CUST0000999439    2.906667\n",
            "CUST0000999544    6.320000\n",
            "CUST0000999593    1.527205\n",
            "CUST0000999935    1.882076\n",
            "CUST0000999936    1.178000\n",
            "Name: SPEND, Length: 3439, dtype: float64\n"
          ]
        }
      ]
    },
    {
      "cell_type": "code",
      "source": [
        "#Number of purchases per customer\n",
        "purchase_count = df.groupby('CUST_CODE')['BASKET_ID'].nunique()\n",
        "print(\"Number of purchases per customer:\")\n",
        "print(purchase_count)"
      ],
      "metadata": {
        "colab": {
          "base_uri": "https://localhost:8080/"
        },
        "id": "KfdX1hnGbnz4",
        "outputId": "56e21f78-050b-472d-d0d3-5e33269ddf8e"
      },
      "execution_count": null,
      "outputs": [
        {
          "output_type": "stream",
          "name": "stdout",
          "text": [
            "Number of purchases per customer:\n",
            "CUST_CODE\n",
            "CUST0000000181      1\n",
            "CUST0000000689     16\n",
            "CUST0000000998      3\n",
            "CUST0000001163      4\n",
            "CUST0000001194    103\n",
            "                 ... \n",
            "CUST0000999439     10\n",
            "CUST0000999544      1\n",
            "CUST0000999593     30\n",
            "CUST0000999935     21\n",
            "CUST0000999936      6\n",
            "Name: BASKET_ID, Length: 3439, dtype: int64\n"
          ]
        }
      ]
    },
    {
      "cell_type": "code",
      "source": [
        "#Frequency of customer visits:\n",
        "visit_frequency = df.groupby('CUST_CODE')['BASKET_ID'].count()\n",
        "print(\"Visit frequency per customer:\")\n",
        "print(visit_frequency)"
      ],
      "metadata": {
        "colab": {
          "base_uri": "https://localhost:8080/"
        },
        "id": "7cnVeaXRbtpq",
        "outputId": "bb8571d0-d1be-4066-d6bc-9fa6c0652964"
      },
      "execution_count": null,
      "outputs": [
        {
          "output_type": "stream",
          "name": "stdout",
          "text": [
            "Visit frequency per customer:\n",
            "CUST_CODE\n",
            "CUST0000000181       1\n",
            "CUST0000000689     185\n",
            "CUST0000000998       4\n",
            "CUST0000001163      25\n",
            "CUST0000001194    1198\n",
            "                  ... \n",
            "CUST0000999439      15\n",
            "CUST0000999544       1\n",
            "CUST0000999593     297\n",
            "CUST0000999935     236\n",
            "CUST0000999936      15\n",
            "Name: BASKET_ID, Length: 3439, dtype: int64\n"
          ]
        }
      ]
    },
    {
      "cell_type": "markdown",
      "source": [
        "Create data for calculate next step from aggregate previouse code and then join to main dataset"
      ],
      "metadata": {
        "id": "0yqAhK0V_jUq"
      }
    },
    {
      "cell_type": "code",
      "source": [
        "# Create DataFrames for the customer analytics results\n",
        "df_total_spending = pd.DataFrame({'CUST_CODE': total_spending.index, 'total_spending': total_spending.values})\n",
        "df_average_spending = pd.DataFrame({'CUST_CODE': average_spending.index, 'average_spending': average_spending.values})\n",
        "df_purchase_count = pd.DataFrame({'CUST_CODE': purchase_count.index, 'purchase_count': purchase_count.values})\n",
        "df_visit_frequency = pd.DataFrame({'CUST_CODE': visit_frequency.index, 'visit_frequency': visit_frequency.values})\n"
      ],
      "metadata": {
        "id": "nHOxndu8cWaR"
      },
      "execution_count": null,
      "outputs": []
    },
    {
      "cell_type": "code",
      "source": [
        "# Merge the customer analytics DataFrames with the main dataset\n",
        "df_total = pd.merge(df, df_total_spending, on='CUST_CODE', how='left')\n",
        "df_total = pd.merge(df_total, df_average_spending, on='CUST_CODE', how='left')\n",
        "df_total = pd.merge(df_total, df_purchase_count, on='CUST_CODE', how='left')\n",
        "df_total = pd.merge(df_total, df_visit_frequency, on='CUST_CODE', how='left')"
      ],
      "metadata": {
        "id": "AHC_bFXhc7Lk"
      },
      "execution_count": null,
      "outputs": []
    },
    {
      "cell_type": "code",
      "source": [
        "# Display the merged dataset\n",
        "print(df_total)"
      ],
      "metadata": {
        "colab": {
          "base_uri": "https://localhost:8080/"
        },
        "id": "PWnt1oIkc9Sb",
        "outputId": "f2d8041c-6465-4ede-b66f-f38ed19f834e"
      },
      "execution_count": null,
      "outputs": [
        {
          "output_type": "stream",
          "name": "stdout",
          "text": [
            "        SHOP_DATE  QUANTITY  SPEND   PROD_CODE       CUST_CODE  \\\n",
            "0        20071019         1   9.50  PRD0901335  CUST0000804514   \n",
            "1        20080328         1   1.49  PRD0901120  CUST0000735558   \n",
            "2        20080605         1   0.70  PRD0904509  CUST0000138092   \n",
            "3        20061213         1   2.04  PRD0904730  CUST0000099658   \n",
            "4        20070713         1   2.19  PRD0900777  CUST0000673735   \n",
            "...           ...       ...    ...         ...             ...   \n",
            "492489   20071116         1   0.01  PRD0903678  CUST0000451458   \n",
            "492490   20070612         1  13.76  PRD0902312  CUST0000957158   \n",
            "492491   20061109         1   4.47  PRD0900396  CUST0000111024   \n",
            "492492   20070624         1   4.92  PRD0903065  CUST0000412413   \n",
            "492493   20071229         1   9.27  PRD0901923  CUST0000509062   \n",
            "\n",
            "              BASKET_ID BASKET_DOMINANT_MISSION  total_spending  \\\n",
            "0       994108000679877                   Fresh           20.23   \n",
            "1       994110300629787                   Fresh           12.30   \n",
            "2       994111300258138                 Grocery         2581.24   \n",
            "3       994103600221562                   Fresh         4874.18   \n",
            "4       994106600615672                   Mixed         2003.84   \n",
            "...                 ...                     ...             ...   \n",
            "492489  994108400460274                 Grocery         1001.85   \n",
            "492490  994106200802520                   Fresh         3537.33   \n",
            "492491  994103100229855                   Mixed          447.79   \n",
            "492492  994106300437841                   Mixed         3491.23   \n",
            "492493  994109000359411                   Mixed          438.49   \n",
            "\n",
            "        average_spending  purchase_count  visit_frequency  \n",
            "0               3.371667               1                6  \n",
            "1               3.075000               2                4  \n",
            "2               1.426888             263             1809  \n",
            "3               1.714450             284             2843  \n",
            "4               1.600511              93             1252  \n",
            "...                  ...             ...              ...  \n",
            "492489          2.065670              69              485  \n",
            "492490          2.610576             216             1355  \n",
            "492491          1.784024              19              251  \n",
            "492492          1.963571              64             1778  \n",
            "492493          2.463427              39              178  \n",
            "\n",
            "[492494 rows x 11 columns]\n"
          ]
        }
      ]
    },
    {
      "cell_type": "markdown",
      "source": [
        "Delete some column"
      ],
      "metadata": {
        "id": "ZUpkmBQW_xiN"
      }
    },
    {
      "cell_type": "code",
      "source": [
        "# Define the columns to be deleted\n",
        "columns_to_delete2 = ['BASKET_ID']\n",
        "\n",
        "# Drop the specified columns\n",
        "df_new = df_total.drop(columns=columns_to_delete2)\n",
        "\n",
        "# Verify the resulting DataFrame\n",
        "print(df_new)"
      ],
      "metadata": {
        "colab": {
          "base_uri": "https://localhost:8080/"
        },
        "outputId": "3342c503-077a-493e-9dba-55f4da457c8f",
        "id": "kyV5eI4jeQwy"
      },
      "execution_count": null,
      "outputs": [
        {
          "output_type": "stream",
          "name": "stdout",
          "text": [
            "        SHOP_DATE  QUANTITY  SPEND   PROD_CODE       CUST_CODE  \\\n",
            "0        20071019         1   9.50  PRD0901335  CUST0000804514   \n",
            "1        20080328         1   1.49  PRD0901120  CUST0000735558   \n",
            "2        20080605         1   0.70  PRD0904509  CUST0000138092   \n",
            "3        20061213         1   2.04  PRD0904730  CUST0000099658   \n",
            "4        20070713         1   2.19  PRD0900777  CUST0000673735   \n",
            "...           ...       ...    ...         ...             ...   \n",
            "492489   20071116         1   0.01  PRD0903678  CUST0000451458   \n",
            "492490   20070612         1  13.76  PRD0902312  CUST0000957158   \n",
            "492491   20061109         1   4.47  PRD0900396  CUST0000111024   \n",
            "492492   20070624         1   4.92  PRD0903065  CUST0000412413   \n",
            "492493   20071229         1   9.27  PRD0901923  CUST0000509062   \n",
            "\n",
            "       BASKET_DOMINANT_MISSION  total_spending  average_spending  \\\n",
            "0                        Fresh           20.23          3.371667   \n",
            "1                        Fresh           12.30          3.075000   \n",
            "2                      Grocery         2581.24          1.426888   \n",
            "3                        Fresh         4874.18          1.714450   \n",
            "4                        Mixed         2003.84          1.600511   \n",
            "...                        ...             ...               ...   \n",
            "492489                 Grocery         1001.85          2.065670   \n",
            "492490                   Fresh         3537.33          2.610576   \n",
            "492491                   Mixed          447.79          1.784024   \n",
            "492492                   Mixed         3491.23          1.963571   \n",
            "492493                   Mixed          438.49          2.463427   \n",
            "\n",
            "        purchase_count  visit_frequency  \n",
            "0                    1                6  \n",
            "1                    2                4  \n",
            "2                  263             1809  \n",
            "3                  284             2843  \n",
            "4                   93             1252  \n",
            "...                ...              ...  \n",
            "492489              69              485  \n",
            "492490             216             1355  \n",
            "492491              19              251  \n",
            "492492              64             1778  \n",
            "492493              39              178  \n",
            "\n",
            "[492494 rows x 10 columns]\n"
          ]
        }
      ]
    },
    {
      "cell_type": "markdown",
      "source": [
        "Change for my perception only!!!!"
      ],
      "metadata": {
        "id": "jNIs0zZY_3YD"
      }
    },
    {
      "cell_type": "code",
      "source": [
        "#Change name\n",
        "df_forml = df_new\n",
        "print(df_forml)"
      ],
      "metadata": {
        "colab": {
          "base_uri": "https://localhost:8080/"
        },
        "id": "jiMhkaVeejGH",
        "outputId": "bf4da7dd-101f-4d24-df05-b5c2a40acf40"
      },
      "execution_count": null,
      "outputs": [
        {
          "output_type": "stream",
          "name": "stdout",
          "text": [
            "        SHOP_DATE  QUANTITY  SPEND   PROD_CODE       CUST_CODE  \\\n",
            "0        20071019         1   9.50  PRD0901335  CUST0000804514   \n",
            "1        20080328         1   1.49  PRD0901120  CUST0000735558   \n",
            "2        20080605         1   0.70  PRD0904509  CUST0000138092   \n",
            "3        20061213         1   2.04  PRD0904730  CUST0000099658   \n",
            "4        20070713         1   2.19  PRD0900777  CUST0000673735   \n",
            "...           ...       ...    ...         ...             ...   \n",
            "492489   20071116         1   0.01  PRD0903678  CUST0000451458   \n",
            "492490   20070612         1  13.76  PRD0902312  CUST0000957158   \n",
            "492491   20061109         1   4.47  PRD0900396  CUST0000111024   \n",
            "492492   20070624         1   4.92  PRD0903065  CUST0000412413   \n",
            "492493   20071229         1   9.27  PRD0901923  CUST0000509062   \n",
            "\n",
            "       BASKET_DOMINANT_MISSION  total_spending  average_spending  \\\n",
            "0                        Fresh           20.23          3.371667   \n",
            "1                        Fresh           12.30          3.075000   \n",
            "2                      Grocery         2581.24          1.426888   \n",
            "3                        Fresh         4874.18          1.714450   \n",
            "4                        Mixed         2003.84          1.600511   \n",
            "...                        ...             ...               ...   \n",
            "492489                 Grocery         1001.85          2.065670   \n",
            "492490                   Fresh         3537.33          2.610576   \n",
            "492491                   Mixed          447.79          1.784024   \n",
            "492492                   Mixed         3491.23          1.963571   \n",
            "492493                   Mixed          438.49          2.463427   \n",
            "\n",
            "        purchase_count  visit_frequency  \n",
            "0                    1                6  \n",
            "1                    2                4  \n",
            "2                  263             1809  \n",
            "3                  284             2843  \n",
            "4                   93             1252  \n",
            "...                ...              ...  \n",
            "492489              69              485  \n",
            "492490             216             1355  \n",
            "492491              19              251  \n",
            "492492              64             1778  \n",
            "492493              39              178  \n",
            "\n",
            "[492494 rows x 10 columns]\n"
          ]
        }
      ]
    },
    {
      "cell_type": "markdown",
      "source": [
        "CLUSTERING --ELBOW"
      ],
      "metadata": {
        "id": "FnzrYspifICv"
      }
    },
    {
      "cell_type": "code",
      "source": [
        "import matplotlib.pyplot as plt\n",
        "from sklearn.cluster import KMeans\n",
        "\n",
        "# Select the columns for clustering\n",
        "cluster_cols = ['total_spending', 'average_spending', 'purchase_count', 'visit_frequency']\n",
        "\n",
        "# Create a subset of the dataset with the selected columns\n",
        "df_cluster = df_forml[cluster_cols]\n",
        "\n",
        "# Perform K-means clustering with different numbers of clusters\n",
        "wcss = []\n",
        "max_clusters = 10  # Maximum number of clusters to try\n",
        "\n",
        "for n_clusters in range(1, max_clusters + 1):\n",
        "    kmeans = KMeans(n_clusters=n_clusters)\n",
        "    kmeans.fit(df_cluster)\n",
        "    wcss.append(kmeans.inertia_)\n",
        "\n",
        "# Plot the within-cluster sum of squares (WCSS) against the number of clusters\n",
        "plt.plot(range(1, max_clusters + 1), wcss)\n",
        "plt.xlabel('Number of Clusters')\n",
        "plt.ylabel('WCSS')\n",
        "plt.title('Elbow Method')\n",
        "plt.show()\n"
      ],
      "metadata": {
        "colab": {
          "base_uri": "https://localhost:8080/",
          "height": 854
        },
        "id": "cZnUd1OZenNX",
        "outputId": "3bea62ee-15df-4c28-fc88-15b776c27bb3"
      },
      "execution_count": null,
      "outputs": [
        {
          "output_type": "stream",
          "name": "stderr",
          "text": [
            "/usr/local/lib/python3.10/dist-packages/sklearn/cluster/_kmeans.py:870: FutureWarning: The default value of `n_init` will change from 10 to 'auto' in 1.4. Set the value of `n_init` explicitly to suppress the warning\n",
            "  warnings.warn(\n",
            "/usr/local/lib/python3.10/dist-packages/sklearn/cluster/_kmeans.py:870: FutureWarning: The default value of `n_init` will change from 10 to 'auto' in 1.4. Set the value of `n_init` explicitly to suppress the warning\n",
            "  warnings.warn(\n",
            "/usr/local/lib/python3.10/dist-packages/sklearn/cluster/_kmeans.py:870: FutureWarning: The default value of `n_init` will change from 10 to 'auto' in 1.4. Set the value of `n_init` explicitly to suppress the warning\n",
            "  warnings.warn(\n",
            "/usr/local/lib/python3.10/dist-packages/sklearn/cluster/_kmeans.py:870: FutureWarning: The default value of `n_init` will change from 10 to 'auto' in 1.4. Set the value of `n_init` explicitly to suppress the warning\n",
            "  warnings.warn(\n",
            "/usr/local/lib/python3.10/dist-packages/sklearn/cluster/_kmeans.py:870: FutureWarning: The default value of `n_init` will change from 10 to 'auto' in 1.4. Set the value of `n_init` explicitly to suppress the warning\n",
            "  warnings.warn(\n",
            "/usr/local/lib/python3.10/dist-packages/sklearn/cluster/_kmeans.py:870: FutureWarning: The default value of `n_init` will change from 10 to 'auto' in 1.4. Set the value of `n_init` explicitly to suppress the warning\n",
            "  warnings.warn(\n",
            "/usr/local/lib/python3.10/dist-packages/sklearn/cluster/_kmeans.py:870: FutureWarning: The default value of `n_init` will change from 10 to 'auto' in 1.4. Set the value of `n_init` explicitly to suppress the warning\n",
            "  warnings.warn(\n",
            "/usr/local/lib/python3.10/dist-packages/sklearn/cluster/_kmeans.py:870: FutureWarning: The default value of `n_init` will change from 10 to 'auto' in 1.4. Set the value of `n_init` explicitly to suppress the warning\n",
            "  warnings.warn(\n",
            "/usr/local/lib/python3.10/dist-packages/sklearn/cluster/_kmeans.py:870: FutureWarning: The default value of `n_init` will change from 10 to 'auto' in 1.4. Set the value of `n_init` explicitly to suppress the warning\n",
            "  warnings.warn(\n",
            "/usr/local/lib/python3.10/dist-packages/sklearn/cluster/_kmeans.py:870: FutureWarning: The default value of `n_init` will change from 10 to 'auto' in 1.4. Set the value of `n_init` explicitly to suppress the warning\n",
            "  warnings.warn(\n"
          ]
        },
        {
          "output_type": "display_data",
          "data": {
            "text/plain": [
              "<Figure size 640x480 with 1 Axes>"
            ],
            "image/png": "[encoded data removed]"
          },
          "metadata": {}
        }
      ]
    },
    {
      "cell_type": "markdown",
      "source": [
        "CLUSTERING\n",
        "--K-MEANS"
      ],
      "metadata": {
        "id": "2KzQesZhhj1P"
      }
    },
    {
      "cell_type": "code",
      "source": [
        "import matplotlib.pyplot as plt\n",
        "from sklearn.cluster import KMeans\n",
        "\n",
        "# Select the columns for clustering\n",
        "cluster_cols = ['total_spending', 'average_spending', 'purchase_count', 'visit_frequency']\n",
        "\n",
        "# Create a subset of the dataset with the selected columns\n",
        "df_cluster = df_forml[cluster_cols]\n",
        "\n",
        "# Perform K-means clustering with the optimal number of clusters\n",
        "k = 4  # Number of clusters\n",
        "kmeans = KMeans(n_clusters=k)\n",
        "kmeans.fit(df_cluster)\n",
        "\n",
        "# Add the cluster labels to the dataset\n",
        "df_forml['cluster'] = kmeans.labels_\n",
        "\n",
        "# Plot the clusters\n",
        "plt.scatter(df_forml['total_spending'], df_forml['purchase_count'], c=df_forml['cluster'], cmap='viridis')\n",
        "plt.xlabel('total_spending')\n",
        "plt.ylabel('Purchase Count')\n",
        "plt.title('K-means Clustering')\n",
        "plt.show()"
      ],
      "metadata": {
        "colab": {
          "base_uri": "https://localhost:8080/",
          "height": 528
        },
        "id": "43d2EW_KhgaN",
        "outputId": "5970dd56-8757-474c-dab2-a9229b4c4c05"
      },
      "execution_count": null,
      "outputs": [
        {
          "output_type": "stream",
          "name": "stderr",
          "text": [
            "/usr/local/lib/python3.10/dist-packages/sklearn/cluster/_kmeans.py:870: FutureWarning: The default value of `n_init` will change from 10 to 'auto' in 1.4. Set the value of `n_init` explicitly to suppress the warning\n",
            "  warnings.warn(\n"
          ]
        },
        {
          "output_type": "display_data",
          "data": {
            "text/plain": [
              "<Figure size 640x480 with 1 Axes>"
            ],
            "image/png": "[encoded data removed]"
          },
          "metadata": {}
        }
      ]
    },
    {
      "cell_type": "code",
      "source": [
        "print(df_forml)"
      ],
      "metadata": {
        "colab": {
          "base_uri": "https://localhost:8080/"
        },
        "id": "K86bONOcjIDY",
        "outputId": "ba61a903-8606-4aad-84b3-4f9f1c5312f2"
      },
      "execution_count": null,
      "outputs": [
        {
          "output_type": "stream",
          "name": "stdout",
          "text": [
            "        SHOP_DATE  QUANTITY  SPEND   PROD_CODE       CUST_CODE  \\\n",
            "0        20071019         1   9.50  PRD0901335  CUST0000804514   \n",
            "1        20080328         1   1.49  PRD0901120  CUST0000735558   \n",
            "2        20080605         1   0.70  PRD0904509  CUST0000138092   \n",
            "3        20061213         1   2.04  PRD0904730  CUST0000099658   \n",
            "4        20070713         1   2.19  PRD0900777  CUST0000673735   \n",
            "...           ...       ...    ...         ...             ...   \n",
            "492489   20071116         1   0.01  PRD0903678  CUST0000451458   \n",
            "492490   20070612         1  13.76  PRD0902312  CUST0000957158   \n",
            "492491   20061109         1   4.47  PRD0900396  CUST0000111024   \n",
            "492492   20070624         1   4.92  PRD0903065  CUST0000412413   \n",
            "492493   20071229         1   9.27  PRD0901923  CUST0000509062   \n",
            "\n",
            "       BASKET_DOMINANT_MISSION  total_spending  average_spending  \\\n",
            "0                        Fresh           20.23          3.371667   \n",
            "1                        Fresh           12.30          3.075000   \n",
            "2                      Grocery         2581.24          1.426888   \n",
            "3                        Fresh         4874.18          1.714450   \n",
            "4                        Mixed         2003.84          1.600511   \n",
            "...                        ...             ...               ...   \n",
            "492489                 Grocery         1001.85          2.065670   \n",
            "492490                   Fresh         3537.33          2.610576   \n",
            "492491                   Mixed          447.79          1.784024   \n",
            "492492                   Mixed         3491.23          1.963571   \n",
            "492493                   Mixed          438.49          2.463427   \n",
            "\n",
            "        purchase_count  visit_frequency  cluster  \n",
            "0                    1                6        2  \n",
            "1                    2                4        2  \n",
            "2                  263             1809        0  \n",
            "3                  284             2843        1  \n",
            "4                   93             1252        0  \n",
            "...                ...              ...      ...  \n",
            "492489              69              485        2  \n",
            "492490             216             1355        3  \n",
            "492491              19              251        2  \n",
            "492492              64             1778        3  \n",
            "492493              39              178        2  \n",
            "\n",
            "[492494 rows x 11 columns]\n"
          ]
        }
      ]
    },
    {
      "cell_type": "markdown",
      "source": [
        "Find behavior each cluster like mean,min,max"
      ],
      "metadata": {
        "id": "Z90acXYnAsDV"
      }
    },
    {
      "cell_type": "code",
      "source": [
        "# Define the columns for which you want to calculate the statistics\n",
        "columns_of_interest = ['total_spending', 'purchase_count','visit_frequency']\n",
        "\n",
        "# Calculate the mean, minimum, and maximum values for the specified columns in each cluster\n",
        "cluster_stats = df_forml.groupby('cluster')[columns_of_interest].agg(['mean', 'min', 'max'])\n",
        "cluster_stats_mean = df_forml.groupby('cluster')[columns_of_interest].agg(['mean'])\n",
        "\n",
        "# Display the cluster statistics\n",
        "cluster_stats = cluster_stats.round(0)\n",
        "cluster_stats_mean = cluster_stats_mean.round(0)\n",
        "print(cluster_stats)\n",
        "\n",
        "# Calculate the mean values for each variable within each cluster\n",
        "cluster_profiles = df_forml.groupby('cluster').mean()\n",
        "\n",
        "print('_______________________________________________________________________')\n",
        "\n",
        "# Filter the cluster profiles to include only integer columns\n",
        "cluster_profiles = cluster_profiles.round(1)\n",
        "\n",
        "# Display the integer cluster profiles\n",
        "print(cluster_profiles)\n"
      ],
      "metadata": {
        "colab": {
          "base_uri": "https://localhost:8080/"
        },
        "id": "O_qzYFrPmE-P",
        "outputId": "2917f252-c038-42ae-dabf-ba95a93ed964"
      },
      "execution_count": null,
      "outputs": [
        {
          "output_type": "stream",
          "name": "stdout",
          "text": [
            "        total_spending                 purchase_count            \\\n",
            "                  mean     min     max           mean  min  max   \n",
            "cluster                                                           \n",
            "0                496.0     0.0  1333.0           39.0    1  248   \n",
            "1               3801.0  2863.0  4858.0          196.0   64  392   \n",
            "2               5938.0  4874.0  8282.0          354.0  114  624   \n",
            "3               1982.0  1181.0  2926.0          123.0   29  417   \n",
            "\n",
            "        visit_frequency              \n",
            "                   mean   min   max  \n",
            "cluster                              \n",
            "0                 263.0     1   731  \n",
            "1                1990.0   955  2849  \n",
            "2                2943.0  2254  3453  \n",
            "3                1096.0   371  1914  \n",
            "_______________________________________________________________________\n",
            "          SHOP_DATE  QUANTITY  SPEND  total_spending  average_spending  \\\n",
            "cluster                                                                  \n",
            "0        20069765.4       1.5    1.9           496.5               1.9   \n",
            "1        20069703.1       1.6    2.0          3800.6               2.0   \n",
            "2        20070023.6       1.5    2.1          5937.6               2.1   \n",
            "3        20070115.3       1.5    1.9          1982.2               1.9   \n",
            "\n",
            "         purchase_count  visit_frequency  \n",
            "cluster                                   \n",
            "0                  39.2            262.8  \n",
            "1                 196.4           1990.1  \n",
            "2                 354.1           2942.7  \n",
            "3                 123.5           1095.7  \n"
          ]
        },
        {
          "output_type": "stream",
          "name": "stderr",
          "text": [
            "<ipython-input-51-eb144fda2f26>:14: FutureWarning: The default value of numeric_only in DataFrameGroupBy.mean is deprecated. In a future version, numeric_only will default to False. Either specify numeric_only or select only columns which should be valid for the function.\n",
            "  cluster_profiles = df_forml.groupby('cluster').mean()\n"
          ]
        }
      ]
    },
    {
      "cell_type": "markdown",
      "source": [
        "Show box plot for easy reading"
      ],
      "metadata": {
        "id": "cF2Z9NkhAwrE"
      }
    },
    {
      "cell_type": "code",
      "source": [
        "import matplotlib.pyplot as plt\n",
        "import seaborn as sns\n",
        "\n",
        "# Create box plots for each column in each cluster\n",
        "for column in columns_of_interest:\n",
        "    plt.figure(figsize=(4, 3))\n",
        "    sns.boxplot(x='cluster', y=column, data=df_forml)\n",
        "    plt.title(f'Box Plot of {column} by cluster')\n",
        "    plt.xlabel('cluster')\n",
        "    plt.ylabel(column)\n",
        "    plt.show()\n",
        "    print(cluster_stats_mean)"
      ],
      "metadata": {
        "colab": {
          "base_uri": "https://localhost:8080/",
          "height": 1000
        },
        "id": "c4N_Z9nhol7k",
        "outputId": "a46b4452-d649-4820-e6c1-46ac3ccd5afb"
      },
      "execution_count": null,
      "outputs": [
        {
          "output_type": "display_data",
          "data": {
            "text/plain": [
              "<Figure size 400x300 with 1 Axes>"
            ],
            "image/png": "[encoded data removed]"
          },
          "metadata": {}
        },
        {
          "output_type": "stream",
          "name": "stdout",
          "text": [
            "        total_spending purchase_count visit_frequency\n",
            "                  mean           mean            mean\n",
            "cluster                                              \n",
            "0                496.0           39.0           263.0\n",
            "1               3801.0          196.0          1990.0\n",
            "2               5938.0          354.0          2943.0\n",
            "3               1982.0          123.0          1096.0\n"
          ]
        },
        {
          "output_type": "display_data",
          "data": {
            "text/plain": [
              "<Figure size 400x300 with 1 Axes>"
            ],
            "image/png": "[encoded data removed]"
          },
          "metadata": {}
        },
        {
          "output_type": "stream",
          "name": "stdout",
          "text": [
            "        total_spending purchase_count visit_frequency\n",
            "                  mean           mean            mean\n",
            "cluster                                              \n",
            "0                496.0           39.0           263.0\n",
            "1               3801.0          196.0          1990.0\n",
            "2               5938.0          354.0          2943.0\n",
            "3               1982.0          123.0          1096.0\n"
          ]
        },
        {
          "output_type": "display_data",
          "data": {
            "text/plain": [
              "<Figure size 400x300 with 1 Axes>"
            ],
            "image/png": "[encoded data removed]"
          },
          "metadata": {}
        },
        {
          "output_type": "stream",
          "name": "stdout",
          "text": [
            "        total_spending purchase_count visit_frequency\n",
            "                  mean           mean            mean\n",
            "cluster                                              \n",
            "0                496.0           39.0           263.0\n",
            "1               3801.0          196.0          1990.0\n",
            "2               5938.0          354.0          2943.0\n",
            "3               1982.0          123.0          1096.0\n"
          ]
        }
      ]
    },
    {
      "cell_type": "code",
      "source": [
        "print(df_forml)"
      ],
      "metadata": {
        "colab": {
          "base_uri": "https://localhost:8080/"
        },
        "id": "ZhGmvysZrR_A",
        "outputId": "99efa2fa-64d6-4af7-c4e6-49f41a393b43"
      },
      "execution_count": null,
      "outputs": [
        {
          "output_type": "stream",
          "name": "stdout",
          "text": [
            "        SHOP_DATE  QUANTITY  SPEND   PROD_CODE       CUST_CODE  \\\n",
            "0        20071019         1   9.50  PRD0901335  CUST0000804514   \n",
            "1        20080328         1   1.49  PRD0901120  CUST0000735558   \n",
            "2        20080605         1   0.70  PRD0904509  CUST0000138092   \n",
            "3        20061213         1   2.04  PRD0904730  CUST0000099658   \n",
            "4        20070713         1   2.19  PRD0900777  CUST0000673735   \n",
            "...           ...       ...    ...         ...             ...   \n",
            "492489   20071116         1   0.01  PRD0903678  CUST0000451458   \n",
            "492490   20070612         1  13.76  PRD0902312  CUST0000957158   \n",
            "492491   20061109         1   4.47  PRD0900396  CUST0000111024   \n",
            "492492   20070624         1   4.92  PRD0903065  CUST0000412413   \n",
            "492493   20071229         1   9.27  PRD0901923  CUST0000509062   \n",
            "\n",
            "       BASKET_DOMINANT_MISSION  total_spending  average_spending  \\\n",
            "0                        Fresh           20.23          3.371667   \n",
            "1                        Fresh           12.30          3.075000   \n",
            "2                      Grocery         2581.24          1.426888   \n",
            "3                        Fresh         4874.18          1.714450   \n",
            "4                        Mixed         2003.84          1.600511   \n",
            "...                        ...             ...               ...   \n",
            "492489                 Grocery         1001.85          2.065670   \n",
            "492490                   Fresh         3537.33          2.610576   \n",
            "492491                   Mixed          447.79          1.784024   \n",
            "492492                   Mixed         3491.23          1.963571   \n",
            "492493                   Mixed          438.49          2.463427   \n",
            "\n",
            "        purchase_count  visit_frequency  cluster  \n",
            "0                    1                6        0  \n",
            "1                    2                4        0  \n",
            "2                  263             1809        3  \n",
            "3                  284             2843        2  \n",
            "4                   93             1252        3  \n",
            "...                ...              ...      ...  \n",
            "492489              69              485        0  \n",
            "492490             216             1355        1  \n",
            "492491              19              251        0  \n",
            "492492              64             1778        1  \n",
            "492493              39              178        0  \n",
            "\n",
            "[492494 rows x 11 columns]\n"
          ]
        }
      ]
    },
    {
      "cell_type": "code",
      "source": [
        "# Group the DataFrame by the 'Cluster' column and calculate the most frequent 'PROD_CODE'\n",
        "most_common_BASKET_DOMINANT_MISSION = df_forml.groupby('cluster')['BASKET_DOMINANT_MISSION'].apply(lambda x: x.value_counts().idxmax())\n",
        "\n",
        "# Display the most frequent PROD_CODE for each cluster\n",
        "print(most_common_BASKET_DOMINANT_MISSION)"
      ],
      "metadata": {
        "colab": {
          "base_uri": "https://localhost:8080/"
        },
        "id": "qRnru_ksrJS4",
        "outputId": "098c6412-7c83-4043-b63f-1deaf28c3dae"
      },
      "execution_count": null,
      "outputs": [
        {
          "output_type": "stream",
          "name": "stdout",
          "text": [
            "cluster\n",
            "0    Fresh\n",
            "1    Fresh\n",
            "2    Fresh\n",
            "3    Fresh\n",
            "Name: BASKET_DOMINANT_MISSION, dtype: object\n"
          ]
        }
      ]
    }
  ]
}